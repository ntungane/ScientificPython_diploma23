{
 "cells": [
  {
   "cell_type": "markdown",
   "id": "50f40fbb-7263-4005-ad72-822ab5498d41",
   "metadata": {},
   "source": [
    "**Little questions that I would have asked if we had an oral exam:**\n",
    "(meaning that you shouldn't read or google or think for more than 5 seconds to answer them)\n",
    "\n",
    " - How do you create markdown cell in Jupyter? (with keyboard commands)\n",
    " - How do you add a cell above the current one in Jupyter (with keyboard command)? \n",
    " - What does it mean that variables are dynamically typed in python?\n",
    " - What's the difference between python and Fortran integers?\n",
    " - Explain the difference between lists, sets and tuples in python.\n",
    " - What does negative index mean when accessing list elements?\n",
    " - How do you print the first N elements of a list?\n",
    " - How do you print every Nth element of a list?\n",
    " - How do you print the reverse list?\n",
    " - Give an example of a list comprehension.\n",
    " - Give an example of cell and line magic commands in Jupyter.\n",
    " - What are keyword function arguments in python and what is their advantage?\n",
    " - Why shouldn't you do from numpy import *?\n",
    " - What is the advantage of using numpy arrays over lists? What are the dangers?\n",
    " - What's the purpose of __str__ method in a python class?\n",
    " - What package can you use in python for symbolic calculations?\n",
    "\n"
   ]
  },
  {
   "cell_type": "markdown",
   "id": "83c1f234-b71f-40fd-a55e-4af85dc6b142",
   "metadata": {},
   "source": [
    "### **Problem1:**\n",
    "\n",
    "Write a function that calculates the first N [Fibonacci numbers](https://en.wikipedia.org/wiki/Fibonacci_number)."
   ]
  },
  {
   "cell_type": "markdown",
   "id": "7f5e1222-ff80-4c66-b304-b6a8200cde1f",
   "metadata": {},
   "source": [
    "### **Problem2:**\n",
    "\n",
    "Generate random data for 2D points coordinates. Write a function that plots them with different colors for each 90 degree section with the origin in the center. This problem should be coded as a class, i.e. you should be able to execute the code:\n",
    "\n",
    "```\n",
    "pr=Problem2()\n",
    "pr.generate()\n",
    "pr.display()\n",
    "```"
   ]
  },
  {
   "cell_type": "markdown",
   "id": "d86d921a-3868-42b6-bfa6-bf9a0ee4b7aa",
   "metadata": {},
   "source": [
    "### **Problem3:**\n",
    "\n",
    "Write a decorator that calls a function twice."
   ]
  },
  {
   "cell_type": "code",
   "execution_count": null,
   "id": "cad3cff4-6567-429d-8fc2-562efe33c9f6",
   "metadata": {},
   "outputs": [],
   "source": []
  }
 ],
 "metadata": {
  "kernelspec": {
   "display_name": "Python [conda env:my_env2] *",
   "language": "python",
   "name": "conda-env-my_env2-py"
  },
  "language_info": {
   "codemirror_mode": {
    "name": "ipython",
    "version": 3
   },
   "file_extension": ".py",
   "mimetype": "text/x-python",
   "name": "python",
   "nbconvert_exporter": "python",
   "pygments_lexer": "ipython3",
   "version": "3.10.8"
  }
 },
 "nbformat": 4,
 "nbformat_minor": 5
}
